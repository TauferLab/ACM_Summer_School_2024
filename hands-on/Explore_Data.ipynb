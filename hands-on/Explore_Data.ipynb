{
 "cells": [
  {
   "cell_type": "markdown",
   "id": "5035495c-6cc4-45fc-aced-f0a1e4a70544",
   "metadata": {},
   "source": [
    "# Notebook for Exploring Cropped Subregions\n",
    "\n",
    "After successfully running the tutorial notebook, you can use this jupyter notebook to read and explore the cropped subregion of interest. We present you with two functions to load the data and to statically visualize it. **You can expand the analysis of your selected data as required.** \n"
   ]
  },
  {
   "cell_type": "markdown",
   "id": "4da02578-6a33-4ac1-8196-8ecaab2366bf",
   "metadata": {},
   "source": [
    "## Preparing your Environment \n",
    "\n",
    "The following cell prepares the environment necessary for reading and plotting the data. Upon completion, a message will be displayed to notify you that the cell execution has finished."
   ]
  },
  {
   "cell_type": "code",
   "execution_count": null,
   "id": "250ef129-c335-4f6c-97ea-afc865ca2fda",
   "metadata": {},
   "outputs": [],
   "source": [
    "import numpy as np\n",
    "import matplotlib.pyplot as plt\n",
    "\n",
    "print(\"You have successfully prepared your environment.\")"
   ]
  },
  {
   "cell_type": "markdown",
   "id": "44ed9213-fe42-47d8-94a2-f3f622e2942c",
   "metadata": {},
   "source": [
    "## Enter the name of your Subregion File\n",
    "Enter the name of the downloaded file."
   ]
  },
  {
   "cell_type": "code",
   "execution_count": null,
   "id": "f1fa2a34-486d-46fa-b370-4ddcf2572f02",
   "metadata": {},
   "outputs": [],
   "source": [
    "# Change the name of data file with the name of your downoaded subregion\n",
    "data_file = \"Enter the name of your file\"\n",
    "print(\"You have successfully named your data file.\")"
   ]
  },
  {
   "cell_type": "markdown",
   "id": "ca7f46de-7571-47fa-ac52-deed5f5e9b08",
   "metadata": {},
   "source": [
    "## Reading the Data in the Subregion File\n",
    "\n",
    "The following cell loads the data and extracts the coordinates and terrain parameter value."
   ]
  },
  {
   "cell_type": "code",
   "execution_count": null,
   "id": "860bbfe3-fe43-4a7a-b937-e801b3fd437e",
   "metadata": {},
   "outputs": [],
   "source": [
    "data = np.load(data_file)\n",
    "data\n",
    "actual_data = data[\"data\"]\n",
    "metadata = data[\"lon_lat\"]\n",
    "print(\"You have successfully loaded your data and metadata.\")"
   ]
  },
  {
   "cell_type": "markdown",
   "id": "5baa1cf5-d4a8-4af4-9497-c1f5e25e0e58",
   "metadata": {},
   "source": [
    "## Visualizing the Subregion Data\n",
    "\n",
    "The following cell plots the subregion."
   ]
  },
  {
   "cell_type": "code",
   "execution_count": null,
   "id": "3e6f6b65-5cb4-4515-b163-67229880b966",
   "metadata": {},
   "outputs": [],
   "source": [
    "cmap_instance = plt.get_cmap(\"inferno\")\n",
    "lat_min = metadata[0][0]\n",
    "lat_max = metadata[0][1]\n",
    "lon_min = metadata[1][0]\n",
    "lon_max = metadata[1][1]\n",
    "fig, axs = plt.subplots(1, 1, figsize=(10, 8))\n",
    "axs.set_xlim(lat_min, lat_max)\n",
    "axs.set_ylim(lon_min, lon_max)\n",
    "axs.set_title(\"Selected Subregion Of Interest\")\n",
    "axs.set_xlabel(\"Longitude (Degrees)\")\n",
    "axs.set_ylabel(\"Latitude (Degrees)\")\n",
    "data_fig = axs.imshow(\n",
    "    actual_data,\n",
    "    cmap=cmap_instance,\n",
    "    vmin=actual_data.min(),\n",
    "    vmax=actual_data.max(),\n",
    "    origin=\"lower\",\n",
    "    extent=(lat_min, lat_max, lon_min, lon_max),\n",
    ")\n",
    "\n",
    "cbar = fig.colorbar(\n",
    "    data_fig,\n",
    "    fraction=0.046 * actual_data.shape[0] / actual_data.shape[1],\n",
    "    pad=0.04,\n",
    ")\n",
    "cbar_ticks = np.linspace(actual_data.min(), actual_data.max(), 8)\n",
    "cbar.set_ticks(cbar_ticks)\n",
    "print(\"You have successfully plotted your data.\")"
   ]
  },
  {
   "cell_type": "markdown",
   "id": "faa74642-ac27-42fd-8be3-4d0fe23fa0e5",
   "metadata": {},
   "source": []
  }
 ],
 "metadata": {
  "kernelspec": {
   "display_name": "Python 3 (ipykernel)",
   "language": "python",
   "name": "python3"
  },
  "language_info": {
   "codemirror_mode": {
    "name": "ipython",
    "version": 3
   },
   "file_extension": ".py",
   "mimetype": "text/x-python",
   "name": "python",
   "nbconvert_exporter": "python",
   "pygments_lexer": "ipython3",
   "version": "3.10.13"
  }
 },
 "nbformat": 4,
 "nbformat_minor": 5
}
