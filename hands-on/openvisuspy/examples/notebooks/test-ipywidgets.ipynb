{
 "cells": [
  {
   "cell_type": "code",
   "execution_count": null,
   "id": "a441cf52-3600-4ef1-a9d5-a9801ef2ddf7",
   "metadata": {
    "tags": []
   },
   "outputs": [],
   "source": [
    "from ipywidgets import interact, interactive, fixed, interact_manual\n",
    "import ipywidgets\n",
    "import ipywidgets as widgets\n",
    "from IPython.display import display\n",
    "\n",
    "print(ipywidgets.__version__)\n",
    "\n",
    "def func3(a,b,c): \n",
    "    display(a+b+c)\n",
    "    \n",
    "w = interactive(func3,  \n",
    "                a=widgets.IntSlider(min=0, max=50, value=0, step=1),    \n",
    "                b=widgets.IntSlider(min=0, max=50, value=0, step=1),\n",
    "                c=widgets.IntSlider(min=0, max=50, value=0, step=1))\n",
    "display(w)"
   ]
  }
 ],
 "metadata": {
  "kernelspec": {
   "display_name": "Python 3 (ipykernel)",
   "language": "python",
   "name": "python3"
  },
  "language_info": {
   "codemirror_mode": {
    "name": "ipython",
    "version": 3
   },
   "file_extension": ".py",
   "mimetype": "text/x-python",
   "name": "python",
   "nbconvert_exporter": "python",
   "pygments_lexer": "ipython3",
   "version": "3.10.0"
  }
 },
 "nbformat": 4,
 "nbformat_minor": 5
}
