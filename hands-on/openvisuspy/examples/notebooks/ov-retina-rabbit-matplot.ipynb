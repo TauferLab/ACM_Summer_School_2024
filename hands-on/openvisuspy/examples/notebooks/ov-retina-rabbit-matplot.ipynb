{
 "cells": [
  {
   "cell_type": "markdown",
   "id": "ecb8dcf0",
   "metadata": {},
   "source": [
    "| ![nsdf](https://www.sci.utah.edu/~pascucci/public/NSDF-smaller.PNG)  | [National Science Data Fabric](https://nationalsciencedatafabric.org/) [Jupyter notebook](https://jupyter.org/) <br> created by  [Valerio Pascucci](http://cedmav.com/) and  [Giorgio Scorzelli](https://www.sci.utah.edu/people/scrgiorgio.html)  |  \n",
    "|---|:---:|\n",
    "\n",
    "\n",
    "# Distribution of the data related by the following book chapter: \n",
    "\n",
    "### Chapter 1.18 - Retinal Connectomics \n",
    "\n",
    "__Authors:__  _[Bryan W. Jones](http://marclab.org/outreach/people/bryan-w-jones/), and [Robert E. Marc.](https://marclab.org/outreach/people/robert-e-marc/)_ \n",
    "\n",
    "__Published in:__  The Senses: A Comprehensive Reference, Elsevier, 2nd Edition - September 8, 2020, Pages 320-343, ISBN  9780128054086\n",
    "\n",
    "https://www.elsevier.com/books/the-senses-a-comprehensive-reference/fritzsch/978-0-12-805408-6\n"
   ]
  },
  {
   "cell_type": "markdown",
   "id": "8bb12ff1",
   "metadata": {},
   "source": [
    "\n",
    "#  <center> This is a preview of the 6.4 TB of EM data\n",
    "![Connectomics EM Data](https://www.sci.utah.edu/~pascucci/public/RabbitRetinaEM.gif)"
   ]
  },
  {
   "cell_type": "markdown",
   "id": "85d7b8f7",
   "metadata": {},
   "source": [
    "# Import OpenVisus and Load dataset"
   ]
  },
  {
   "cell_type": "code",
   "execution_count": null,
   "id": "f4963287",
   "metadata": {},
   "outputs": [],
   "source": [
    "import os,sys\n",
    "import matplotlib.pyplot as plt, skimage\n",
    "\n",
    "# %matplotlib notebook\n",
    "%matplotlib inline\n",
    "\n",
    "#if you are debugging in local mode...\n",
    "if True:\n",
    "    sys.path.append(\"c:/projects/openvisus/build/RelWithDebInfo\")\n",
    "    sys.path.append(\"c:/projects/openvisuspy/src\")\n",
    "\n",
    "import IPython\n",
    "from IPython.display import display, HTML\n",
    "display(HTML(\"<style>.container { width:100% !important; }</style>\"))\n",
    "\n",
    "def ShowData(data,extent):\n",
    "    fig, ax = plt.subplots()\n",
    "    im = ax.imshow(data, extent=extent) \n",
    "    plt.colorbar(im)\n",
    "    return fig,im,ax\n",
    "\n",
    "from openvisuspy import LoadDataset, ExecuteBoxQuery,SetupJupyterLogger\n",
    "SetupJupyterLogger()\n",
    "\n",
    "\n",
    "db=LoadDataset('https://atlantis.sci.utah.edu/mod_visus?dataset=rabbit&cached=1')\n",
    "print(f\"Loaded dataset \\nfields={db.getFields()} \\nlogic_box={db.getLogicBox()}\")\n",
    "W,H=db.getLogicBox()[1]\n",
    "access=db.createAccess()"
   ]
  },
  {
   "cell_type": "markdown",
   "id": "dd739ab4",
   "metadata": {},
   "source": [
    "# Display a single XY slice"
   ]
  },
  {
   "cell_type": "code",
   "execution_count": null,
   "id": "015e1412",
   "metadata": {},
   "outputs": [],
   "source": [
    "def ReadData(cx, cy, zoom=1.0, resolution=0, timestep=1, verbose=True): \n",
    "    x1,x2 = int(cx - zoom*W*0.5), int(cx + zoom*W*0.5)\n",
    "    y1,y2 = int(cy - zoom*H*0.5), int(cy + zoom*H*0.5)  \n",
    "    aligned_box, delta, num_pixels = db.getAlignedBox([[x1,y1],[x2,y2]], resolution)\n",
    "    (x1,y1),(x2,y2)=aligned_box\n",
    "    extent=[x1,x2,y1,y2]     \n",
    "    \n",
    "    for it in ExecuteBoxQuery(db, access=access, logic_box=aligned_box, timestep=timestep, endh=resolution, num_refinements=1):\n",
    "        data=it['data']\n",
    "        if verbose: print(f\"data.shape={data.shape} extent={extent}\")\n",
    "        return data, extent\n",
    "\n",
    "data,extent = ReadData(W//2, H//2, resolution=db.getMaxResolution() -12, zoom=1.0)\n",
    "ShowData(data,extent)\n",
    "plt.show() "
   ]
  },
  {
   "cell_type": "markdown",
   "id": "7a1b52af",
   "metadata": {},
   "source": [
    "# Mark the area of interest and show it"
   ]
  },
  {
   "cell_type": "code",
   "execution_count": null,
   "id": "45b408ef",
   "metadata": {},
   "outputs": [],
   "source": [
    "piece_data, piece_extent = ReadData(W//2,H//2,zoom=0.1,resolution=db.getMaxResolution()-12)\n",
    "ShowData(data,extent)\n",
    "\n",
    "x1,x2,y1,y2=piece_extent\n",
    "plt.plot([x1,x1],[ 0, H], color='r')\n",
    "plt.plot([x2,x2],[ 0, H], color='r')\n",
    "plt.plot([ 0, W],[y1,y1], color='g')  \n",
    "plt.plot([ 0, W],[y2,y2], color='g')  \n",
    "plt.show()\n",
    "\n",
    "ShowData(piece_data,piece_extent)\n",
    "plt.show()"
   ]
  },
  {
   "cell_type": "code",
   "execution_count": null,
   "id": "759d3dc0",
   "metadata": {},
   "outputs": [],
   "source": []
  }
 ],
 "metadata": {
  "kernelspec": {
   "display_name": "Python 3 (ipykernel)",
   "language": "python",
   "name": "python3"
  },
  "language_info": {
   "codemirror_mode": {
    "name": "ipython",
    "version": 3
   },
   "file_extension": ".py",
   "mimetype": "text/x-python",
   "name": "python",
   "nbconvert_exporter": "python",
   "pygments_lexer": "ipython3",
   "version": "3.10.0"
  }
 },
 "nbformat": 4,
 "nbformat_minor": 5
}
