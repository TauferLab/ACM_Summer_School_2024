{
 "cells": [
  {
   "cell_type": "markdown",
   "metadata": {},
   "source": [
    "# Configure JupyterLite"
   ]
  },
  {
   "cell_type": "code",
   "execution_count": null,
   "metadata": {},
   "outputs": [],
   "source": [
    "import shutil, os, micropip,logging,time\n",
    "\n",
    "# I have no ide why I have to do this, there is some confusion between bokeh version\n",
    "_fix=[shutil.rmtree(f\"/lib/python3.10/site-packages/{it}\", ignore_errors=True) for it in os.listdir(\"/lib/python3.10/site-packages\") if it.startswith(\"bokeh\")]\n",
    "await micropip.install(\"https://cdn.holoviz.org/panel/0.14.3/dist/wheels/bokeh-2.4.3-py3-none-any.whl\")\n",
    "await micropip.install(\"bokeh==2.4.3\")\n",
    "await micropip.install([\n",
    "    \"pyviz_comms\",\n",
    "    \"numpy\", \n",
    "    \"pandas\", \n",
    "    \"requests\", \n",
    "    \"xmltodict\",\n",
    "    \"xyzservices\", \n",
    "    \"pyodide-http\", \n",
    "    \"colorcet\",\n",
    "    \"https://cdn.holoviz.org/panel/0.14.3/dist/wheels/bokeh-2.4.3-py3-none-any.whl\", \n",
    "    \"panel==0.14.2\", \n",
    "    \"openvisuspy==0.0.20\",])"
   ]
  },
  {
   "cell_type": "markdown",
   "metadata": {},
   "source": [
    "# Test if Panel is working"
   ]
  },
  {
   "cell_type": "code",
   "execution_count": null,
   "metadata": {},
   "outputs": [],
   "source": [
    "import bokeh\n",
    "print(bokeh.__version__)\n",
    "import panel as pn;print(pn.__version__)\n",
    "pn.extension('vega')\n",
    "\n",
    "button = bokeh.models.widgets.Button(label=\"Panel is working? Push...\", sizing_mode='stretch_width')\n",
    "def OnClick(evt=None): button.label=\"YES!\"\n",
    "button.on_click(OnClick)    \n",
    "pn.pane.Bokeh(button) # NOTE: bokeh will not work (complaining about tornado)"
   ]
  },
  {
   "cell_type": "markdown",
   "metadata": {},
   "source": [
    "# David (2D-uint8[3])"
   ]
  },
  {
   "cell_type": "code",
   "execution_count": null,
   "metadata": {},
   "outputs": [],
   "source": [
    "import openvisuspy\n",
    "from openvisuspy import Slice, Slices, GetBackend, SetupLogger\n",
    "logger=SetupLogger()\n",
    "logger.info(f\"GetBackend={GetBackend()}\")"
   ]
  },
  {
   "cell_type": "code",
   "execution_count": null,
   "metadata": {},
   "outputs": [],
   "source": [
    "view=Slice() \n",
    "view.setDataset(\"https://atlantis.sci.utah.edu/mod_visus?dataset=david_subsampled&cached=1\" )   \n",
    "view.setPalette(\"Greys256\")\n",
    "view.setPaletteRange([0,255])\n",
    "view.getPanelLayout()"
   ]
  },
  {
   "cell_type": "markdown",
   "metadata": {},
   "source": [
    "# 2kbit1"
   ]
  },
  {
   "cell_type": "code",
   "execution_count": null,
   "metadata": {},
   "outputs": [],
   "source": [
    "view=Slice() \n",
    "view.setDataset(\"https://atlantis.sci.utah.edu/mod_visus?dataset=2kbit1&cached=1\") \n",
    "view.setPalette(\"Greys256\")\n",
    "view.setPaletteRange((0,255))\n",
    "view.getPanelLayout()"
   ]
  },
  {
   "cell_type": "markdown",
   "metadata": {},
   "source": [
    "# Rabbit "
   ]
  },
  {
   "cell_type": "code",
   "execution_count": null,
   "metadata": {},
   "outputs": [],
   "source": [
    "view=Slice()\n",
    "view.setDataset('https://atlantis.sci.utah.edu/mod_visus?dataset=rabbit&cached=1')   \n",
    "view.setPalette(\"Greys256\")\n",
    "view.setPaletteRange((0,255))\n",
    "view.getPanelLayout()"
   ]
  },
  {
   "cell_type": "markdown",
   "metadata": {},
   "source": [
    "# Chess"
   ]
  },
  {
   "cell_type": "code",
   "execution_count": null,
   "metadata": {},
   "outputs": [],
   "source": [
    "view=Slice() \n",
    "view.setDataset('https://atlantis.sci.utah.edu/mod_visus?dataset=chess-zip&cached=1')   \n",
    "view.setPalette(\"Viridis256\")\n",
    "view.setPaletteRange([-0.017141795,0.012004322])\n",
    "view.getPanelLayout()"
   ]
  }
 ],
 "metadata": {
  "kernelspec": {
   "display_name": "Python 3 (ipykernel)",
   "language": "python",
   "name": "python3"
  },
  "language_info": {
   "codemirror_mode": {
    "name": "python",
    "version": 3
   },
   "file_extension": ".py",
   "mimetype": "text/x-python",
   "name": "python",
   "nbconvert_exporter": "python",
   "pygments_lexer": "ipython3",
   "version": "3.8"
  }
 },
 "nbformat": 4,
 "nbformat_minor": 4
}
