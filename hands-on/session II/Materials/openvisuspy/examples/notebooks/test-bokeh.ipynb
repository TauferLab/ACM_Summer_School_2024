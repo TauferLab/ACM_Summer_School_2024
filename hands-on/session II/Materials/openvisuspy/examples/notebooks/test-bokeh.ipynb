{
 "cells": [
  {
   "cell_type": "code",
   "execution_count": null,
   "id": "e17398cc-4f4a-4a44-bc20-b3299adc9c82",
   "metadata": {},
   "outputs": [],
   "source": [
    "import os,sys,time\n",
    "\n",
    "# import bokeh\n",
    "# TODO: enforce security here\n",
    "os.environ[\"BOKEH_ALLOW_WS_ORIGIN\"]=\"*\"\n",
    "os.environ[\"BOKEH_LOG_LEVEL\"]=\"error\" \n",
    "\n",
    "import bokeh\n",
    "import bokeh.io\n",
    "import bokeh.plotting\n",
    "import bokeh.layouts\n",
    "\n",
    "bokeh.io.output_notebook()"
   ]
  },
  {
   "cell_type": "code",
   "execution_count": null,
   "id": "148506ff-4a9c-4694-952d-ee3c222df61b",
   "metadata": {
    "tags": []
   },
   "outputs": [],
   "source": [
    "def MyApp(doc):\n",
    "    button = bokeh.models.Button(label = \"Is Bokeh Working?\") \n",
    "    def onButtonClick(evt=None):\n",
    "        button.label=\"Yes, it is working\"\n",
    "    button.on_click(onButtonClick) \n",
    "    doc.add_root(bokeh.layouts.row(button))\n",
    "bokeh.io.show(MyApp)"
   ]
  },
  {
   "cell_type": "code",
   "execution_count": null,
   "id": "deb46de0-4588-426d-be5c-371d17b123c5",
   "metadata": {},
   "outputs": [],
   "source": [
    "def MyApp(doc):\n",
    "    \n",
    "    import yaml\n",
    "    from bokeh.layouts import column\n",
    "    from bokeh.models import ColumnDataSource, Slider\n",
    "    from bokeh.plotting import figure\n",
    "    from bokeh.themes import Theme\n",
    "    from bokeh.io import show, output_notebook\n",
    "\n",
    "    from bokeh.sampledata.sea_surface_temperature import sea_surface_temperature\n",
    "    \n",
    "    df = sea_surface_temperature.copy()\n",
    "    source = ColumnDataSource(data=df)\n",
    "    plot = figure(x_axis_type='datetime', y_range=(0, 25),\n",
    "                  y_axis_label='Temperature (Celsius)',\n",
    "                  title=\"Sea Surface Temperature at 43.18, -70.43\")\n",
    "    plot.line('time', 'temperature', source=source)\n",
    "    def callback(attr, old, new):\n",
    "        if new == 0:\n",
    "            data = df\n",
    "        else:\n",
    "            data = df.rolling('{0}D'.format(new)).mean()\n",
    "        source.data = ColumnDataSource.from_df(data)\n",
    "\n",
    "    slider = Slider(start=0, end=30, value=0, step=1, title=\"Smoothing by N Days\")\n",
    "    slider.on_change('value', callback)\n",
    "    doc.add_root(column(slider, plot))\n",
    "    doc.theme = Theme(json=yaml.load(\"\"\"\n",
    "        attrs:\n",
    "            figure:\n",
    "                background_fill_color: \"#DDDDDD\"\n",
    "                outline_line_color: white\n",
    "                toolbar_location: above\n",
    "                height: 500\n",
    "                width: 800\n",
    "            Grid:\n",
    "                grid_line_dash: [6, 4]\n",
    "                grid_line_color: white\n",
    "    \"\"\", Loader=yaml.FullLoader))\n",
    "    \n",
    "bokeh.io.show(MyApp)"
   ]
  },
  {
   "cell_type": "code",
   "execution_count": null,
   "id": "cdffe5f4-f295-43cb-8df6-dc2c1fefa99b",
   "metadata": {},
   "outputs": [],
   "source": []
  }
 ],
 "metadata": {
  "kernelspec": {
   "display_name": "Python 3 (ipykernel)",
   "language": "python",
   "name": "python3"
  },
  "language_info": {
   "codemirror_mode": {
    "name": "ipython",
    "version": 3
   },
   "file_extension": ".py",
   "mimetype": "text/x-python",
   "name": "python",
   "nbconvert_exporter": "python",
   "pygments_lexer": "ipython3",
   "version": "3.10.0"
  }
 },
 "nbformat": 4,
 "nbformat_minor": 5
}
