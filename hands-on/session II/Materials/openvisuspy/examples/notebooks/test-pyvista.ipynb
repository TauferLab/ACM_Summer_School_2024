{
 "cells": [
  {
   "cell_type": "markdown",
   "id": "109b671c-7a23-4eeb-a32a-edfd94c3e069",
   "metadata": {},
   "source": [
    "# Important\n",
    "\n",
    "This demo should work in Chrome and Firefox"
   ]
  },
  {
   "cell_type": "code",
   "execution_count": null,
   "id": "2bf6da98-d4bf-4526-bd41-ec0caa25bc00",
   "metadata": {
    "tags": []
   },
   "outputs": [],
   "source": [
    "import sys\n",
    "import pyvista as pv\n",
    "import imageio.v2 as imageio\n",
    "pl = pv.Plotter()\n",
    "vol = pl.add_volume(imageio.imread('imageio:stent.npz'))\n",
    "pl.show()"
   ]
  },
  {
   "cell_type": "code",
   "execution_count": null,
   "id": "4367a4f7-a532-4b6a-a0c7-d50ef568e2d1",
   "metadata": {
    "tags": []
   },
   "outputs": [],
   "source": [
    "import pyvista as pv\n",
    "print(pv.Report())"
   ]
  },
  {
   "cell_type": "code",
   "execution_count": null,
   "id": "cba5966b-8b67-40c3-ad08-ccb0efe9c0c3",
   "metadata": {},
   "outputs": [],
   "source": []
  }
 ],
 "metadata": {
  "kernelspec": {
   "display_name": "Python 3 (ipykernel)",
   "language": "python",
   "name": "python3"
  },
  "language_info": {
   "codemirror_mode": {
    "name": "ipython",
    "version": 3
   },
   "file_extension": ".py",
   "mimetype": "text/x-python",
   "name": "python",
   "nbconvert_exporter": "python",
   "pygments_lexer": "ipython3",
   "version": "3.10.0"
  }
 },
 "nbformat": 4,
 "nbformat_minor": 5
}
