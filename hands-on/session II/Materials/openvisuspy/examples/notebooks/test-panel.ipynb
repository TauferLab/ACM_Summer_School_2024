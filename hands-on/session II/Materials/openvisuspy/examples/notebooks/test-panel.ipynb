{
 "cells": [
  {
   "cell_type": "code",
   "execution_count": null,
   "id": "29d32f52-73b2-426f-8fe3-4bfab2a28cf9",
   "metadata": {},
   "outputs": [],
   "source": [
    "import os,sys,time\n",
    "import panel as pn\n",
    "print(pn.__version__)\n",
    "pn.extension()"
   ]
  },
  {
   "cell_type": "code",
   "execution_count": null,
   "id": "7efb4fa8-fd17-4006-aa66-9ce6066e0466",
   "metadata": {},
   "outputs": [],
   "source": [
    "button = pn.widgets.Button(name=\"Is Panel working? Click me...\")\n",
    "def onClick(evt):\n",
    "    button.name=\"Yes\"\n",
    "button.on_click(onClick)\n",
    "app=pn.Row(button)\n",
    "app\n",
    "#app.servable()"
   ]
  },
  {
   "cell_type": "code",
   "execution_count": null,
   "id": "bc6c8c5f-0af2-43e4-acf6-342085ac1029",
   "metadata": {},
   "outputs": [],
   "source": [
    "import hvplot.pandas\n",
    "import pandas as pd\n",
    "import numpy as np\n",
    "csv_file = (\"https://raw.githubusercontent.com/holoviz/panel/main/examples/assets/occupancy.csv\")\n",
    "data = pd.read_csv(csv_file, parse_dates=[\"date\"], index_col=\"date\")\n",
    "data.tail()"
   ]
  },
  {
   "cell_type": "code",
   "execution_count": null,
   "id": "9623809c-2f78-40d2-948c-e1c1df8d5a71",
   "metadata": {},
   "outputs": [],
   "source": []
  }
 ],
 "metadata": {
  "kernelspec": {
   "display_name": "Python 3 (ipykernel)",
   "language": "python",
   "name": "python3"
  },
  "language_info": {
   "codemirror_mode": {
    "name": "ipython",
    "version": 3
   },
   "file_extension": ".py",
   "mimetype": "text/x-python",
   "name": "python",
   "nbconvert_exporter": "python",
   "pygments_lexer": "ipython3",
   "version": "3.10.0"
  }
 },
 "nbformat": 4,
 "nbformat_minor": 5
}
