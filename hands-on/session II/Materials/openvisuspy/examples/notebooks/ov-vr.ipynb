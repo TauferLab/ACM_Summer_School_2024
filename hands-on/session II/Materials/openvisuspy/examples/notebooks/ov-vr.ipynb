{
 "cells": [
  {
   "cell_type": "markdown",
   "id": "3dab248e",
   "metadata": {},
   "source": [
    "| ![nsdf](https://www.sci.utah.edu/~pascucci/public/NSDF-smaller.PNG)  | [National Science Data Fabric](https://nationalsciencedatafabric.org/) [Jupyter notebook](https://jupyter.org/) <br> created by  [Valerio Pascucci](http://cedmav.com/) and  [Giorgio Scorzelli](https://www.sci.utah.edu/people/scrgiorgio.html)  |  \n",
    "|---|:---:|\n"
   ]
  },
  {
   "cell_type": "markdown",
   "id": "93a2b55e",
   "metadata": {},
   "source": [
    "# IMPORTANT, READ CAREFULLY\n",
    "\n",
    "## this notebook does NOT work in Chrome, please use Firefox"
   ]
  },
  {
   "cell_type": "code",
   "execution_count": null,
   "id": "d1a6f936",
   "metadata": {
    "tags": []
   },
   "outputs": [],
   "source": [
    "import os,sys,logging,time\n",
    "import numpy as np\n",
    "\n",
    "print(sys.executable)\n",
    "\n",
    "os.environ[\"BOKEH_ALLOW_WS_ORIGIN\"]=\"*\"\n",
    "os.environ[\"BOKEH_LOG_LEVEL\"]=\"debug\"\n",
    "os.environ[\"VISUS_CPP_VERBOSE\"]=\"0\"\n",
    "os.environ[\"VISUS_NETSERVICE_VERBOSE\"]=\"0\"\n",
    "os.environ[\"VISUS_VERBOSE_DISKACCESS\"]=\"0\"\n",
    "\n",
    "import panel as pn\n",
    "pn.extension(log_level=\"DEBUG\",notifications=True, sizing_mode=\"stretch_width\")\n",
    "\n",
    "if True:\n",
    "    sys.path.append(\"c:/projects/openvisus/build/RelWithDebInfo\")\n",
    "    sys.path.append(\"c:/projects/openvisuspy/src\")\n",
    "\n",
    "from openvisuspy import Slice, SetupJupyterLogger, LoadDataset, ExecuteBoxQuery\n",
    "logger=SetupJupyterLogger(logging_level=logging.DEBUG) \n",
    "print(time.time(),\"OpenVisus imported\")"
   ]
  },
  {
   "cell_type": "markdown",
   "id": "5488f75a-876b-4057-96db-a6f7ce509cd8",
   "metadata": {
    "tags": []
   },
   "source": [
    "#  <center> This is a preview of the data:\n",
    "![Visualization of Covid-19 cases](https://www.sci.utah.edu/~pascucci/public/DRP-preview.gif)"
   ]
  },
  {
   "cell_type": "code",
   "execution_count": null,
   "id": "c43a4cc7",
   "metadata": {
    "tags": []
   },
   "outputs": [],
   "source": [
    "import warnings\n",
    "warnings.simplefilter(action='ignore', category=FutureWarning)\n",
    "\n",
    "# VTK is needed for VTKVolumePlot \n",
    "# see https://panel.holoviz.org/reference/panes/VTKVolume.html\n",
    "pn.extension('vtk') \n",
    "\n",
    "def MyApp(url, endh=21, height=800):\n",
    "    \n",
    "    db=LoadDataset(url)\n",
    "    print(f\"Loaded dataset\")\n",
    "    print(f\"  fields={db.getFields()}\")\n",
    "    print(f\"  logic_box={db.getLogicBox()}\")\n",
    "    W,H,D=db.getLogicBox()[1]\n",
    "    \n",
    "    access=db.createAccess()\n",
    "    data=list(ExecuteBoxQuery(db, access=access, endh=endh,timestep=0,num_refinements=1))[0]['data']\n",
    "    print(f\"Got data shape={data.shape} dtype={data.dtype}\")\n",
    "\n",
    "     # generate a panel for numpy data\n",
    "    volume = pn.panel(\n",
    "        data, \n",
    "        sizing_mode='stretch_both',\n",
    "        orientation_widget =True,\n",
    "        display_slices=True,\n",
    "        spacing = (1, 1, 1),\n",
    "        controller_expanded=False)\n",
    "\n",
    "    # other widgets, with callbacks\n",
    "    experiment  = pn.widgets.IntSlider(name='Experiment', start=0, end=1, step=1, value=0 )\n",
    "    @pn.depends(experiment)\n",
    "    def experiment_callback(value):\n",
    "        nonlocal volume\n",
    "        data=list(ExecuteBoxQuery(db, access=access, endh=endh,timestep=value,num_refinements=1))[0]['data']\n",
    "        volume.object = data\n",
    "        return \" \"    \n",
    "    \n",
    "    slider_i = pn.widgets.IntSlider(name='i-slice', start=0, end=data.shape[0], value = data.shape[0]//2 )\n",
    "    @pn.depends(slider_i)\n",
    "    def slider_i_callback(value):\n",
    "        nonlocal volume\n",
    "        volume.slice_i = value \n",
    "        return \" \"    \n",
    "    \n",
    "    slider_j = pn.widgets.IntSlider(name='j-slice', start=0, end=data.shape[1], value = data.shape[1]//2 )\n",
    "    @pn.depends(slider_j)\n",
    "    def slider_j_callback(value):\n",
    "        nonlocal volume\n",
    "        volume.slice_j = value \n",
    "        return \" \"    \n",
    "    \n",
    "    slider_k = pn.widgets.IntSlider(name='k-slice', start=0, end=data.shape[2], value = data.shape[2]//2 )\n",
    "    @pn.depends(slider_k)\n",
    "    def slider_k_callback(value):\n",
    "        nonlocal volume\n",
    "        volume.slice_k = value \n",
    "        return \" \"    \n",
    "    \n",
    "    show_volume = pn.widgets.Checkbox(name='Show Volume',value=True)\n",
    "    @pn.depends(show_volume)\n",
    "    def show_volume_callback(value):\n",
    "        nonlocal volume\n",
    "        volume.display_volume = value \n",
    "        return \" \"    \n",
    "    \n",
    "    show_slices = pn.widgets.Checkbox(name='Show Slices',value=True)\n",
    "    @pn.depends(show_slices)\n",
    "    def show_slices_calback(value):\n",
    "        nonlocal volume\n",
    "        volume.display_slices = value \n",
    "        return \" \"    \n",
    "\n",
    "    main_layout=pn.Column(\n",
    "        experiment,\n",
    "        slider_i,\n",
    "        slider_j,\n",
    "        slider_k,\n",
    "        pn.Row(\n",
    "            show_volume,\n",
    "            show_slices\n",
    "        ),\n",
    "        volume, \n",
    "        experiment_callback,\n",
    "        slider_i_callback,\n",
    "        slider_j_callback,\n",
    "        slider_k_callback,\n",
    "        show_volume_callback,\n",
    "        show_slices_calback,\n",
    "        height = height,\n",
    "        css_classes=['panel-widget-box'],\n",
    "        sizing_mode='stretch_width',\n",
    "        width_policy='max')\n",
    "\n",
    "    return main_layout\n",
    "\n",
    "MyApp('http://atlantis.sci.utah.edu:80/mod_visus?dataset=fly_scan_time-s-midx/data&cached=idx', endh=21, height=800)"
   ]
  },
  {
   "cell_type": "markdown",
   "id": "3668c1e2-2122-4f51-b236-44a888f0ca0f",
   "metadata": {},
   "source": [
    "#  <center> This is a preview of the data\n",
    "![Visualization of Covid-19 cases](https://www.sci.utah.edu/~pascucci/public/CHESS-visus_recon_combined_1_fullres_zip.gif)"
   ]
  },
  {
   "cell_type": "code",
   "execution_count": null,
   "id": "dba26bf5-3865-4499-b5b3-d3dd1cef38e6",
   "metadata": {
    "tags": []
   },
   "outputs": [],
   "source": [
    "MyApp(url='http://atlantis.sci.utah.edu:80/mod_visus?dataset=chess-zip&cached=1', endh=21, height=800)"
   ]
  },
  {
   "cell_type": "markdown",
   "id": "4c071ff0-ec00-44a1-864c-1b2c07712b21",
   "metadata": {},
   "source": [
    "#  <center> This is a preview of the data:\n",
    "![Visualization of Covid-19 cases](https://www.sci.utah.edu/~pascucci/public/CHESS-visus_recon_combined_1_2_3_fullres_zip.gif)"
   ]
  },
  {
   "cell_type": "code",
   "execution_count": null,
   "id": "921d4c52",
   "metadata": {
    "tags": []
   },
   "outputs": [],
   "source": [
    "MyApp(url='https://atlantis.sci.utah.edu/mod_visus?dataset=chess-recon_combined_1_2_3_fullres_zip&cached=1', endh=21, height=800)"
   ]
  },
  {
   "cell_type": "code",
   "execution_count": null,
   "id": "523f7cc8-24b7-4945-a12a-e62b2f72b33b",
   "metadata": {},
   "outputs": [],
   "source": []
  }
 ],
 "metadata": {
  "kernelspec": {
   "display_name": "Python 3 (ipykernel)",
   "language": "python",
   "name": "python3"
  },
  "language_info": {
   "codemirror_mode": {
    "name": "ipython",
    "version": 3
   },
   "file_extension": ".py",
   "mimetype": "text/x-python",
   "name": "python",
   "nbconvert_exporter": "python",
   "pygments_lexer": "ipython3",
   "version": "3.10.0"
  }
 },
 "nbformat": 4,
 "nbformat_minor": 5
}
